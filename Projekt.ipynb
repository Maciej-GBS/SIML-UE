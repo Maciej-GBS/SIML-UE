{
 "cells": [
  {
   "cell_type": "code",
   "execution_count": 1,
   "metadata": {},
   "outputs": [],
   "source": [
    "import pandas as pd\n",
    "from siml_data import Featureset"
   ]
  },
  {
   "cell_type": "code",
   "execution_count": 2,
   "metadata": {},
   "outputs": [],
   "source": [
    "feature_loader = Featureset()"
   ]
  },
  {
   "cell_type": "code",
   "execution_count": 3,
   "metadata": {},
   "outputs": [],
   "source": [
    "df = feature_loader.get()"
   ]
  },
  {
   "cell_type": "code",
   "execution_count": 5,
   "metadata": {},
   "outputs": [
    {
     "data": {
      "text/plain": [
       "GCM24Open        float64\n",
       "GCM24High        float64\n",
       "GCM24Low         float64\n",
       "GCM24Close       float64\n",
       "IXICOpen         float64\n",
       "IXICHigh         float64\n",
       "IXICLow          float64\n",
       "IXICClose        float64\n",
       "HKDOpen          float64\n",
       "HKDHigh          float64\n",
       "HKDLow           float64\n",
       "HKDClose         float64\n",
       "GXCOpen          float64\n",
       "GXCHigh          float64\n",
       "GXCLow           float64\n",
       "GXCClose         float64\n",
       "CNYOpen          float64\n",
       "CNYHigh          float64\n",
       "CNYLow           float64\n",
       "CNYClose         float64\n",
       "GSPCOpen         float64\n",
       "GSPCHigh         float64\n",
       "GSPCLow          float64\n",
       "GSPCClose        float64\n",
       "CLK24Open        float64\n",
       "CLK24High        float64\n",
       "CLK24Low         float64\n",
       "CLK24Close       float64\n",
       "MCHIOpen         float64\n",
       "MCHIHigh         float64\n",
       "MCHILow          float64\n",
       "MCHIClose        float64\n",
       "0386Open         float64\n",
       "0386High         float64\n",
       "0386Low          float64\n",
       "0386Close        float64\n",
       "BLKOpen          float64\n",
       "BLKHigh          float64\n",
       "BLKLow           float64\n",
       "BLKClose         float64\n",
       "btcusd_dOpen     float64\n",
       "btcusd_dHigh     float64\n",
       "btcusd_dLow      float64\n",
       "btcusd_dClose    float64\n",
       "eth_v_dOpen      float64\n",
       "eth_v_dHigh      float64\n",
       "eth_v_dLow       float64\n",
       "eth_v_dClose     float64\n",
       "usd_i_dOpen      float64\n",
       "usd_i_dHigh      float64\n",
       "usd_i_dLow       float64\n",
       "usd_i_dClose     float64\n",
       "0857Open         float64\n",
       "0857High         float64\n",
       "0857Low          float64\n",
       "0857Close        float64\n",
       "dtype: object"
      ]
     },
     "execution_count": 5,
     "metadata": {},
     "output_type": "execute_result"
    }
   ],
   "source": [
    "df.dtypes"
   ]
  },
  {
   "cell_type": "code",
   "execution_count": null,
   "metadata": {},
   "outputs": [],
   "source": []
  }
 ],
 "metadata": {
  "kernelspec": {
   "display_name": "Python 3",
   "language": "python",
   "name": "python3"
  },
  "language_info": {
   "codemirror_mode": {
    "name": "ipython",
    "version": 3
   },
   "file_extension": ".py",
   "mimetype": "text/x-python",
   "name": "python",
   "nbconvert_exporter": "python",
   "pygments_lexer": "ipython3",
   "version": "3.7.4"
  }
 },
 "nbformat": 4,
 "nbformat_minor": 2
}
